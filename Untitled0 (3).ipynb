{
  "nbformat": 4,
  "nbformat_minor": 0,
  "metadata": {
    "colab": {
      "provenance": []
    },
    "kernelspec": {
      "name": "python3",
      "display_name": "Python 3"
    },
    "language_info": {
      "name": "python"
    }
  },
  "cells": [
    {
      "cell_type": "code",
      "execution_count": 1,
      "metadata": {
        "colab": {
          "base_uri": "https://localhost:8080/"
        },
        "id": "lJInhwnGPCIO",
        "outputId": "ef0647cf-ac5f-4acc-8888-4f554055e5b2"
      },
      "outputs": [
        {
          "output_type": "stream",
          "name": "stdout",
          "text": [
            "Hello,world\n"
          ]
        }
      ],
      "source": [
        "print('Hello,world')"
      ]
    },
    {
      "cell_type": "code",
      "source": [
        "#print sum of two number\n",
        "a=float(input('Enter a number'))\n",
        "b=float(input('Enter another number'))\n",
        "c=a+b\n",
        "print('the sum of these number is',c)"
      ],
      "metadata": {
        "colab": {
          "base_uri": "https://localhost:8080/"
        },
        "id": "LW96LUQqPLAY",
        "outputId": "4429ceb9-84fd-4612-faf2-1130b2045464"
      },
      "execution_count": 2,
      "outputs": [
        {
          "output_type": "stream",
          "name": "stdout",
          "text": [
            "Enter a number321651\n",
            "Enter another number5451\n",
            "the sum of these number is 327102.0\n"
          ]
        }
      ]
    },
    {
      "cell_type": "code",
      "source": [
        "#product of two number\n",
        "a=float(input('Enter a number'))\n",
        "b=float(input('enter a number'))\n",
        "c=a*b\n",
        "print('the product of numbers is',c)"
      ],
      "metadata": {
        "colab": {
          "base_uri": "https://localhost:8080/"
        },
        "id": "xWDlgLznPK9H",
        "outputId": "ac2a0e15-8758-4cf7-da19-b39f8983e0eb"
      },
      "execution_count": 3,
      "outputs": [
        {
          "output_type": "stream",
          "name": "stdout",
          "text": [
            "Enter a number252\n",
            "enter a number321\n",
            "the product of numbers is 80892.0\n"
          ]
        }
      ]
    },
    {
      "cell_type": "code",
      "source": [],
      "metadata": {
        "id": "ZLX9Ety5PK6A"
      },
      "execution_count": null,
      "outputs": []
    }
  ]
}